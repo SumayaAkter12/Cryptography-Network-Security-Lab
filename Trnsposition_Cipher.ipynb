{
  "nbformat": 4,
  "nbformat_minor": 0,
  "metadata": {
    "colab": {
      "provenance": []
    },
    "kernelspec": {
      "name": "python3",
      "display_name": "Python 3"
    },
    "language_info": {
      "name": "python"
    }
  },
  "cells": [
    {
      "cell_type": "markdown",
      "source": [
        "Suppose you are given a line of text as a plaintext, find out the corresponding Transposition Cipher. Take width as input. Then perform the reverse operation to get original plaintext."
      ],
      "metadata": {
        "id": "7HaKuKn2MsSk"
      }
    },
    {
      "cell_type": "markdown",
      "source": [
        "Function for Encryption"
      ],
      "metadata": {
        "id": "yxFgnX1YMwAY"
      }
    },
    {
      "cell_type": "code",
      "source": [
        "import math\n",
        "\n",
        "def transposition_encrypt(plaintext, width):\n",
        "    # Remove spaces just to simplify grid alignment (optional)\n",
        "    plaintext = plaintext.replace(\" \", \"\")\n",
        "    height = math.ceil(len(plaintext) / width)\n",
        "\n",
        "    # Fill the grid row-wise\n",
        "    grid = [['' for _ in range(width)] for _ in range(height)]\n",
        "    index = 0\n",
        "    for r in range(height):\n",
        "        for c in range(width):\n",
        "            if index < len(plaintext):\n",
        "                grid[r][c] = plaintext[index]\n",
        "                index += 1\n",
        "            else:\n",
        "                grid[r][c] = ' '  # padding character\n",
        "\n",
        "    # Show the grid (row-wise)\n",
        "    print(\"\\nGrid (Row-wise):\")\n",
        "    for row in grid:\n",
        "        print(row)\n",
        "\n",
        "    # Read column-wise for ciphertext\n",
        "    ciphertext = ''\n",
        "    for c in range(width):\n",
        "        for r in range(height):\n",
        "            ciphertext += grid[r][c]\n",
        "\n",
        "    return ciphertext, height\n"
      ],
      "metadata": {
        "id": "1dfVks_tMyk5"
      },
      "execution_count": 1,
      "outputs": []
    },
    {
      "cell_type": "markdown",
      "source": [
        "Function for Decryption"
      ],
      "metadata": {
        "id": "BaMZWwYdM24p"
      }
    },
    {
      "cell_type": "code",
      "source": [
        "def transposition_decrypt(ciphertext, width, height):\n",
        "    # Recreate the grid column-wise\n",
        "    grid = [['' for _ in range(width)] for _ in range(height)]\n",
        "    index = 0\n",
        "    for c in range(width):\n",
        "        for r in range(height):\n",
        "            if index < len(ciphertext):\n",
        "                grid[r][c] = ciphertext[index]\n",
        "                index += 1\n",
        "\n",
        "    # Show the grid (column-wise filled)\n",
        "    print(\"\\nGrid (Column-wise):\")\n",
        "    for row in grid:\n",
        "        print(row)\n",
        "\n",
        "    # Read row-wise to get original plaintext\n",
        "    decrypted = ''\n",
        "    for r in range(height):\n",
        "        for c in range(width):\n",
        "            decrypted += grid[r][c]\n",
        "\n",
        "    return decrypted"
      ],
      "metadata": {
        "id": "CL-ppQZGM5Sw"
      },
      "execution_count": 2,
      "outputs": []
    },
    {
      "cell_type": "markdown",
      "source": [
        "Performing Encryption & Decryption using Transposition Cipher"
      ],
      "metadata": {
        "id": "Shj1SJLUM-KR"
      }
    },
    {
      "cell_type": "code",
      "source": [
        "\n",
        "plaintext = \"HELLOsumaya\"\n",
        "width = 3\n",
        "\n",
        "print(\"Plaintext:\", plaintext)\n",
        "\n",
        "# Encrypt\n",
        "ciphertext, height = transposition_encrypt(plaintext, width)\n",
        "print(\"\\nEncrypted Text:\", ciphertext)\n",
        "\n",
        "# Decrypt\n",
        "original = transposition_decrypt(ciphertext, width, height)\n",
        "print(\"\\nDecrypted Text:\", original)"
      ],
      "metadata": {
        "colab": {
          "base_uri": "https://localhost:8080/"
        },
        "id": "Z0jKJe6oNBLb",
        "outputId": "bc8a77e5-7d7f-4e9c-f8a6-c824e87ffc11"
      },
      "execution_count": 3,
      "outputs": [
        {
          "output_type": "stream",
          "name": "stdout",
          "text": [
            "Plaintext: HELLOsumaya\n",
            "\n",
            "Grid (Row-wise):\n",
            "['H', 'E', 'L']\n",
            "['L', 'O', 's']\n",
            "['u', 'm', 'a']\n",
            "['y', 'a', ' ']\n",
            "\n",
            "Encrypted Text: HLuyEOmaLsa \n",
            "\n",
            "Grid (Column-wise):\n",
            "['H', 'E', 'L']\n",
            "['L', 'O', 's']\n",
            "['u', 'm', 'a']\n",
            "['y', 'a', ' ']\n",
            "\n",
            "Decrypted Text: HELLOsumaya \n"
          ]
        }
      ]
    }
  ]
}