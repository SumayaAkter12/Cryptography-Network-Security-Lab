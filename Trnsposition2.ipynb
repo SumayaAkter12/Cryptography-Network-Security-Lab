{
  "nbformat": 4,
  "nbformat_minor": 0,
  "metadata": {
    "colab": {
      "provenance": []
    },
    "kernelspec": {
      "name": "python3",
      "display_name": "Python 3"
    },
    "language_info": {
      "name": "python"
    }
  },
  "cells": [
    {
      "cell_type": "code",
      "execution_count": null,
      "metadata": {
        "colab": {
          "base_uri": "https://localhost:8080/"
        },
        "id": "wswTN9IPW9wu",
        "outputId": "ccdc0ef9-f1d3-427b-a9aa-5d6e3a98fb7d"
      },
      "outputs": [
        {
          "output_type": "stream",
          "name": "stdout",
          "text": [
            "Plaintext: HELLOsumaya\n",
            "\n",
            "Grid (Row-wise):\n",
            "['H', 'E', 'L']\n",
            "['L', 'O', 's']\n",
            "['u', 'm', 'a']\n",
            "['y', 'a', ' ']\n",
            "\n",
            "Encrypted Text: HLuyEOmaLsa \n",
            "\n",
            "Grid (Column-wise):\n",
            "['H', 'E', 'L']\n",
            "['L', 'O', 's']\n",
            "['u', 'm', 'a']\n",
            "['y', 'a', ' ']\n",
            "\n",
            "Decrypted Text: HELLOsumaya \n"
          ]
        }
      ],
      "source": [
        "import math\n",
        "\n",
        "def transposition_encrypt(plaintext, width):\n",
        "    # Remove spaces just to simplify grid alignment (optional)\n",
        "    plaintext = plaintext.replace(\" \", \"\")\n",
        "    height = math.ceil(len(plaintext) / width)\n",
        "\n",
        "    # Fill the grid row-wise\n",
        "    grid = [['' for _ in range(width)] for _ in range(height)]\n",
        "    index = 0\n",
        "    for r in range(height):\n",
        "        for c in range(width):\n",
        "            if index < len(plaintext):\n",
        "                grid[r][c] = plaintext[index]\n",
        "                index += 1\n",
        "            else:\n",
        "                grid[r][c] = ' '  # padding character\n",
        "\n",
        "    # Show the grid (row-wise)\n",
        "    print(\"\\nGrid (Row-wise):\")\n",
        "    for row in grid:\n",
        "        print(row)\n",
        "\n",
        "    # Read column-wise for ciphertext\n",
        "    ciphertext = ''\n",
        "    for c in range(width):\n",
        "        for r in range(height):\n",
        "            ciphertext += grid[r][c]\n",
        "\n",
        "    return ciphertext, height\n",
        "\n",
        "def transposition_decrypt(ciphertext, width, height):\n",
        "    # Recreate the grid column-wise\n",
        "    grid = [['' for _ in range(width)] for _ in range(height)]\n",
        "    index = 0\n",
        "    for c in range(width):\n",
        "        for r in range(height):\n",
        "            if index < len(ciphertext):\n",
        "                grid[r][c] = ciphertext[index]\n",
        "                index += 1\n",
        "\n",
        "    # Show the grid (column-wise filled)\n",
        "    print(\"\\nGrid (Column-wise):\")\n",
        "    for row in grid:\n",
        "        print(row)\n",
        "\n",
        "    # Read row-wise to get original plaintext\n",
        "    decrypted = ''\n",
        "    for r in range(height):\n",
        "        for c in range(width):\n",
        "            decrypted += grid[r][c]\n",
        "\n",
        "    return decrypted\n",
        "\n",
        "# === Example Usage ===\n",
        "plaintext = \"HELLOsumaya\"\n",
        "width = 3\n",
        "\n",
        "print(\"Plaintext:\", plaintext)\n",
        "\n",
        "# Encrypt\n",
        "ciphertext, height = transposition_encrypt(plaintext, width)\n",
        "print(\"\\nEncrypted Text:\", ciphertext)\n",
        "\n",
        "# Decrypt\n",
        "original = transposition_decrypt(ciphertext, width, height)\n",
        "print(\"\\nDecrypted Text:\", original)\n"
      ]
    }
  ]
}