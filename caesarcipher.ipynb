{
  "nbformat": 4,
  "nbformat_minor": 0,
  "metadata": {
    "colab": {
      "provenance": []
    },
    "kernelspec": {
      "name": "python3",
      "display_name": "Python 3"
    },
    "language_info": {
      "name": "python"
    }
  },
  "cells": [
    {
      "cell_type": "markdown",
      "source": [
        "Suppose you are given a line of text as a plaintext, find out the corresponding Caesar Cipher. Then perform the reverse operation to get original plaintext."
      ],
      "metadata": {
        "id": "lYhTf2tPQ5a_"
      }
    },
    {
      "cell_type": "markdown",
      "source": [
        "Function for Encryption\n"
      ],
      "metadata": {
        "id": "Zm16qmeOQ7Pt"
      }
    },
    {
      "cell_type": "code",
      "source": [
        "def encrypt(plain_text):\n",
        "    cipher_text = \"\"\n",
        "\n",
        "    for ch in plain_text:\n",
        "        if ch.isalpha():\n",
        "            ch = chr(ord(ch) + 3)\n",
        "            if ch.isalpha() != True:\n",
        "                ch = chr(ord(ch) - 26)\n",
        "        cipher_text += ch\n",
        "\n",
        "    return cipher_text"
      ],
      "metadata": {
        "id": "Qytk4VCmQ9ay"
      },
      "execution_count": null,
      "outputs": []
    },
    {
      "cell_type": "markdown",
      "source": [
        "Function for Decryption"
      ],
      "metadata": {
        "id": "Twca_htUQ_ZF"
      }
    },
    {
      "cell_type": "code",
      "source": [
        "def decrypt(cipher_text):\n",
        "    plain_text = \"\"\n",
        "\n",
        "    for ch in cipher_text:\n",
        "        if ch.isalpha():\n",
        "            ch = chr(ord(ch) - 3)\n",
        "            if ch.isalpha() != True:\n",
        "                ch = chr(ord(ch) + 26)\n",
        "        plain_text += ch\n",
        "\n",
        "    return plain_text"
      ],
      "metadata": {
        "id": "YhSNNXx0RBQ6"
      },
      "execution_count": null,
      "outputs": []
    },
    {
      "cell_type": "markdown",
      "source": [
        "Performing Encryption & Decryption using Caesar Cipher"
      ],
      "metadata": {
        "id": "cT-0g4M1RDVH"
      }
    },
    {
      "cell_type": "code",
      "source": [
        "plain_text = \"sumaya\"\n",
        "cipher_text = encrypt(plain_text)\n",
        "decrypted_text = decrypt(cipher_text)\n",
        "\n",
        "print(f\"Plain Text: {plain_text}\")\n",
        "print(f\"Encrypted Text: {cipher_text}\")\n",
        "print(f\"Decrypted Text: {decrypted_text}\")"
      ],
      "metadata": {
        "colab": {
          "base_uri": "https://localhost:8080/"
        },
        "id": "JVMDUqZ-RFnB",
        "outputId": "f6c81a6f-282e-45d3-91a7-bb4a23b7e21c"
      },
      "execution_count": null,
      "outputs": [
        {
          "output_type": "stream",
          "name": "stdout",
          "text": [
            "Plain Text: sumaya\n",
            "Encrypted Text: vxpdbd\n",
            "Decrypted Text: sumaya\n"
          ]
        }
      ]
    }
  ]
}